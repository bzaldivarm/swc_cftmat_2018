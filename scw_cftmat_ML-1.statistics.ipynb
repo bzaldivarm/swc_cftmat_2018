{
 "cells": [
  {
   "cell_type": "code",
   "execution_count": 1,
   "metadata": {
    "collapsed": true,
    "scrolled": true
   },
   "outputs": [],
   "source": [
    "from scipy import stats\n",
    "import numpy as np\n",
    "import scipy.integrate as integrate\n",
    "import matplotlib.pyplot as plt\n",
    "from matplotlib import colors\n",
    "from IPython.display import Image"
   ]
  },
  {
   "cell_type": "markdown",
   "metadata": {},
   "source": [
    "# PROBABILITY DISTRIBUTIONS  & RANDOM NUMBERS"
   ]
  },
  {
   "cell_type": "markdown",
   "metadata": {},
   "source": [
    "## Sample mean and variance of given data "
   ]
  },
  {
   "cell_type": "code",
   "execution_count": 17,
   "metadata": {
    "collapsed": false,
    "scrolled": true
   },
   "outputs": [],
   "source": [
    "data= [1.7954749844952811, -0.82344065038249903, -0.2192039195121927, 0.43421078851339012, -1.3937260553671886, 0.85161210073274862, -2.6686243950360145, -0.35207951288551514, -0.10940076133160911, -0.59905215298171999, -1.9077435365842492, 0.020406556867819687, -1.2667957796625413, -0.89430991460718678, 1.8038278417226581, 0.22364484431918985, 0.24387840765089427, 0.16074727588740503, -0.60364894979460193, 0.88708395065341128, 0.59160454172753119, 0.69199479160946198, 1.0520703481037412, 0.50795459134774568, 1.5768791411906093, 0.11136128559501068, 0.96834991062732267, -1.0799223246865801, -0.77406582026005244, -0.30040067363629003, 1.2377561077782491, -0.99824929203421076, -0.02168098535073721, -1.0387804686170952, -0.58153332350166953, -0.88398216313031486, 0.98199801462526692, -0.65395591277809428, 1.188250840837731, 0.058226502477458669, 0.96105869074830363, 0.10567619147859778, 0.51881996330412861, -1.707076404292295, 0.18157283917332023, -0.33912688245307337, 1.2734418824757954, -0.51695460401269733, -0.20360790850843452, 0.31856140595590027, 0.75735145577200225, 3.0430689558832995, 0.47146356276179396, 1.1383428598945147, 1.7429250016207152, -1.2014904270011244, 0.56068261948182707, 1.4736754494886215, 0.30054000076482723, 0.46517586287895907, -0.18897799002118684, -0.21664647047151026, 0.65038476271826817, -1.2619505543431326, 0.06505573549326088, 0.69393228967205012, -1.9606057368685155, -0.56673063268424828, -0.068754682043091431, -0.30525992662681395, -2.1195784329855063, -0.14774360361720879, 0.83612496345549592, -0.59503981572338716, -0.99505845969486162, 0.48399819526397336, 0.50755656012655292, -0.3764647961265693, -0.036037664799445097, -1.0056478038593424, -0.32747779322900994, 0.25654288021891763, -0.76614113585673627, -0.63801666019907732, 1.9661880283890789, -0.66627731259491163, -0.90671980413027353, -2.9151271617469758, 1.1026698881419355, 0.29541153460103858, 2.2523317145660862, -0.93489202353580836, 0.22350292567728611, 2.433675833153746, -1.8417520331375354, 0.90279416703884552, 1.0431742286998438, 0.68114918105219224, 0.76849076134294891, 0.4715201798721444]"
   ]
  },
  {
   "cell_type": "code",
   "execution_count": 20,
   "metadata": {
    "collapsed": false,
    "scrolled": true
   },
   "outputs": [
    {
     "name": "stdout",
     "output_type": "stream",
     "text": [
      "data length = 100\n"
     ]
    }
   ],
   "source": [
    "print('data length =',len(data))"
   ]
  },
  {
   "cell_type": "code",
   "execution_count": 28,
   "metadata": {
    "collapsed": false,
    "scrolled": true
   },
   "outputs": [
    {
     "data": {
      "image/png": "[encoded data removed]",
      "text/plain": [
       "<matplotlib.figure.Figure at 0x7fb6f57d9198>"
      ]
     },
     "metadata": {},
     "output_type": "display_data"
    }
   ],
   "source": [
    "plt.hist(data,bins=10)\n",
    "plt.show()"
   ]
  },
  {
   "cell_type": "code",
   "execution_count": 21,
   "metadata": {
    "collapsed": false,
    "scrolled": true
   },
   "outputs": [
    {
     "name": "stdout",
     "output_type": "stream",
     "text": [
      "sample mean = 0.0435444008523\n",
      "sample standard deviation = 1.06960666814\n"
     ]
    }
   ],
   "source": [
    "print('sample mean =',np.mean(data))\n",
    "print('sample standard deviation =',np.std(data))"
   ]
  },
  {
   "cell_type": "markdown",
   "metadata": {},
   "source": [
    "## Some properties of popular distributions"
   ]
  },
  {
   "cell_type": "markdown",
   "metadata": {},
   "source": [
    "### a) Gaussian"
   ]
  },
  {
   "cell_type": "markdown",
   "metadata": {},
   "source": [
    "$$\n",
    "x\\sim {\\cal N}(\\mu,\\sigma) = \\frac{1}{\\sqrt{2\\pi \\sigma^2}} \\exp\\left\\{-\\frac{(x-\\mu)^2}{2\\sigma^2}\\right\\} \n",
    "$$"
   ]
  },
  {
   "cell_type": "code",
   "execution_count": 38,
   "metadata": {
    "collapsed": false,
    "scrolled": true
   },
   "outputs": [],
   "source": [
    "f = lambda x:stats.norm.pdf(x,0,1)"
   ]
  },
  {
   "cell_type": "code",
   "execution_count": 45,
   "metadata": {
    "collapsed": false,
    "scrolled": true
   },
   "outputs": [
    {
     "name": "stdout",
     "output_type": "stream",
     "text": [
      "result =  0.9999999999999998 , error =  1.0178191320905743e-08\n"
     ]
    }
   ],
   "source": [
    "result, error=integrate.quad(f,-np.inf,np.inf)\n",
    "print('result = ',result,', error = ',error)"
   ]
  },
  {
   "cell_type": "code",
   "execution_count": 48,
   "metadata": {
    "collapsed": false,
    "scrolled": true
   },
   "outputs": [
    {
     "name": "stdout",
     "output_type": "stream",
     "text": [
      "mean =  0.0 , integ. error =  0.0\n"
     ]
    }
   ],
   "source": [
    "integrand=lambda x: f(x)*x\n",
    "mean,error=integrate.quad(integrand,-np.inf,np.inf)\n",
    "print('mean = ',mean,', integ. error = ',error)"
   ]
  },
  {
   "cell_type": "code",
   "execution_count": 51,
   "metadata": {
    "collapsed": false,
    "scrolled": true
   },
   "outputs": [
    {
     "name": "stdout",
     "output_type": "stream",
     "text": [
      "variance =  1.000000000000001 , integ. error =  5.274099954078797e-09\n"
     ]
    }
   ],
   "source": [
    "integrand=lambda x: (x-mean)**2 *f(x)\n",
    "variance,error=integrate.quad(integrand,-np.inf,np.inf)\n",
    "print('variance = ',variance,', integ. error = ',error)"
   ]
  },
  {
   "cell_type": "markdown",
   "metadata": {},
   "source": [
    "### b) Bernoulli\n",
    "$$\n",
    "k\\sim {\\rm Bern}(p) = p^k (1-p)^{1-k}\n",
    "$$"
   ]
  },
  {
   "cell_type": "code",
   "execution_count": 61,
   "metadata": {
    "collapsed": true,
    "scrolled": true
   },
   "outputs": [],
   "source": [
    "P = lambda k: stats.bernoulli.pmf(k,0.3)"
   ]
  },
  {
   "cell_type": "code",
   "execution_count": 63,
   "metadata": {
    "collapsed": false,
    "scrolled": true
   },
   "outputs": [
    {
     "data": {
      "text/plain": [
       "1.0"
      ]
     },
     "execution_count": 63,
     "metadata": {},
     "output_type": "execute_result"
    }
   ],
   "source": [
    "P(0)+P(1)"
   ]
  },
  {
   "cell_type": "markdown",
   "metadata": {},
   "source": [
    "### c) generalised Bernoulli\n",
    "$$\n",
    "m\\mapsto {\\bf t} \\sim {\\rm gBern}({\\bf p}) = \\prod_{k=1}^K p_k^{t_k} \n",
    "$$\n",
    "where the common procedure is to map the multiclass variable $m$ in a vector variable ${\\bf t}$\n",
    "according to the \"1-to-K\" coding scheme"
   ]
  },
  {
   "cell_type": "code",
   "execution_count": 576,
   "metadata": {
    "collapsed": false,
    "scrolled": true
   },
   "outputs": [],
   "source": [
    "K=3  # number of classes\n",
    "p_1 = 0.2\n",
    "p_2 = 0.5\n",
    "p_3 = 1 - p_1 - p_2\n",
    "p = [p_1,p_2,p_3]\n",
    "gBern = lambda t,p: np.prod(np.array(p)**t)    "
   ]
  },
  {
   "cell_type": "code",
   "execution_count": 75,
   "metadata": {
    "collapsed": false,
    "scrolled": true
   },
   "outputs": [
    {
     "data": {
      "text/plain": [
       "0.30000000000000004"
      ]
     },
     "execution_count": 75,
     "metadata": {},
     "output_type": "execute_result"
    }
   ],
   "source": [
    "# 1-to-K coding scheme\n",
    "gBern([0,0,1],p)"
   ]
  },
  {
   "cell_type": "code",
   "execution_count": 93,
   "metadata": {
    "collapsed": false,
    "scrolled": true
   },
   "outputs": [
    {
     "name": "stdout",
     "output_type": "stream",
     "text": [
      "[0.20000000000000001, 0.5, 0.30000000000000004]\n"
     ]
    }
   ],
   "source": [
    "# expected value, E[t|p]\n",
    "terms=[]\n",
    "for i in range(len(p)):\n",
    "    t1=max(0,1-i)\n",
    "    t2=min(i,2-i)\n",
    "    t3=1-t1-t2\n",
    "    t=np.array([t1,t2,t3])\n",
    "    terms.append(gBern(t,p)*t[i])\n",
    "print(terms)"
   ]
  },
  {
   "cell_type": "markdown",
   "metadata": {},
   "source": [
    "## Random numbers following a given distribution"
   ]
  },
  {
   "cell_type": "code",
   "execution_count": 96,
   "metadata": {
    "collapsed": false,
    "scrolled": true
   },
   "outputs": [
    {
     "data": {
      "text/plain": [
       "array([[ 0.90838831,  0.89665775,  0.86017759],\n",
       "       [ 0.21589999,  0.16817486,  0.43644591],\n",
       "       [ 0.21548302,  0.6271486 ,  0.75250643],\n",
       "       [ 0.25520359,  0.71765491,  0.97852098],\n",
       "       [ 0.01775359,  0.35870639,  0.31612021],\n",
       "       [ 0.25350624,  0.19733946,  0.82048409],\n",
       "       [ 0.14494164,  0.95978638,  0.35367663],\n",
       "       [ 0.92140519,  0.02784554,  0.17328545],\n",
       "       [ 0.62982396,  0.24461005,  0.35278463],\n",
       "       [ 0.80778717,  0.05845756,  0.70892942]])"
      ]
     },
     "execution_count": 96,
     "metadata": {},
     "output_type": "execute_result"
    }
   ],
   "source": [
    "# 10x3 matrix of random numbers. Uniform distribution [0,1)\n",
    "np.random.rand(10,3)"
   ]
  },
  {
   "cell_type": "code",
   "execution_count": 105,
   "metadata": {
    "collapsed": true,
    "scrolled": true
   },
   "outputs": [],
   "source": [
    "# 100 random numbers following a normal distrib. N(mu=0,sigma=1)\n",
    "Nnumbers = stats.norm.rvs(0,1,size=100)"
   ]
  },
  {
   "cell_type": "code",
   "execution_count": 106,
   "metadata": {
    "collapsed": false,
    "scrolled": true
   },
   "outputs": [
    {
     "name": "stdout",
     "output_type": "stream",
     "text": [
      "[ 2.3861382   0.11818639 -0.20945483  0.70345407  0.17810675  0.83379049\n",
      " -0.66831612 -0.45628614 -0.64934511 -0.0476986   0.50212132  0.98244782\n",
      " -0.77728052  1.8355884  -0.80725158 -0.89117507  0.68338397 -1.25395585\n",
      " -0.52549957  0.9731651  -0.22533719 -1.7118952  -1.87034034 -1.80756724\n",
      " -0.52985225 -0.09756109  0.3736407   0.79268209 -0.77295936 -0.16535216\n",
      "  0.68747188  0.95936523  1.28507113 -1.76976773  1.89443828 -0.0736477\n",
      "  0.27960118 -0.02566272 -0.5312606   1.18419129  1.12820577 -0.01500064\n",
      "  0.25520086  1.09190427 -0.23413191 -0.30370315  0.1959906  -0.08253727\n",
      " -0.83403286  0.18148725 -0.31369415  0.21062583 -0.48442247  2.09613499\n",
      "  1.41984131  0.56265     0.53888104 -1.01171781 -0.73253031 -0.86758799\n",
      " -0.43447329 -0.52508916  0.56886953 -1.35323922  1.22125353 -0.74555315\n",
      "  0.21235678  0.45920967  0.57356761 -1.74264151  1.57713494 -1.71158465\n",
      " -1.47560783  0.86437981  1.06346028  0.38401167 -0.2427776  -1.54269733\n",
      "  0.84997783  1.4612463  -0.32482865  0.73268098 -0.52268383  1.1775053\n",
      "  1.35643301  2.10596236 -1.95668456  0.95237714  0.57108845  0.74266414\n",
      "  1.86638446  1.00906098 -0.21458707 -0.16949765  0.55316404 -0.3703733\n",
      "  0.23264415 -0.20181587  0.80560689  0.43760212]\n"
     ]
    }
   ],
   "source": [
    "print(Nnumbers)"
   ]
  },
  {
   "cell_type": "code",
   "execution_count": 107,
   "metadata": {
    "collapsed": false,
    "scrolled": true
   },
   "outputs": [
    {
     "data": {
      "image/png": "[encoded data removed]",
      "text/plain": [
       "<matplotlib.figure.Figure at 0x7fb6f5906198>"
      ]
     },
     "metadata": {},
     "output_type": "display_data"
    }
   ],
   "source": [
    "plt.hist(Nnumbers,bins=10,color='orange',label='normal distrib.')\n",
    "plt.hist(data,bins=10,alpha=0.5,label='data')\n",
    "plt.legend(bbox_to_anchor=(1.,1.))\n",
    "plt.show()"
   ]
  },
  {
   "cell_type": "code",
   "execution_count": 133,
   "metadata": {
    "collapsed": false,
    "scrolled": true
   },
   "outputs": [],
   "source": [
    "# set a random seed, for reproducibility purposes\n",
    "np.random.seed(123)\n",
    "\n",
    "# 100 random numbers following a Poisson distrib. Pois(lambda=10)\n",
    "lamb=10.0\n",
    "Pnumbers = stats.poisson.rvs(lamb,size=100)"
   ]
  },
  {
   "cell_type": "code",
   "execution_count": 134,
   "metadata": {
    "collapsed": false,
    "scrolled": true
   },
   "outputs": [
    {
     "name": "stdout",
     "output_type": "stream",
     "text": [
      "[12  7 12 10  8  9  9  7 10 11 12 12  9  8  5  9  9  9 16 11  8 14 10  6 11\n",
      "  8  9 14 12 11 14 13  7 11 10  6  8 10  9  8  9 11  6  7 10  5  8 14 14  8\n",
      "  8 11 15  8  7 13 12  9  9  5 16 10 12  8 12 12  9 11 11 12 13 15  5  9 11\n",
      "  7 10 16  7  9 10 10 13 12 13  9  9  7 14 15 10  8  7 15 10  5 18  7 12 11]\n"
     ]
    }
   ],
   "source": [
    "print(Pnumbers)"
   ]
  },
  {
   "cell_type": "code",
   "execution_count": 136,
   "metadata": {
    "collapsed": false,
    "scrolled": true
   },
   "outputs": [
    {
     "data": {
      "image/png": "[encoded data removed]",
      "text/plain": [
       "<matplotlib.figure.Figure at 0x7fb6f5699b38>"
      ]
     },
     "metadata": {},
     "output_type": "display_data"
    }
   ],
   "source": [
    "plt.hist(Pnumbers,label='sample',normed=1,color='orange')\n",
    "\n",
    "n=np.arange(stats.poisson.ppf(0.01,lamb),stats.poisson.ppf(0.99,lamb))\n",
    "plt.plot(n,stats.poisson.pmf(n,lamb),label='true distrib. (Poisson)', linewidth=2.0,color='blue')\n",
    "\n",
    "plt.legend(bbox_to_anchor=(1.,1.))\n",
    "plt.show()"
   ]
  }
 ],
 "metadata": {
  "kernelspec": {
   "display_name": "Python 3",
   "language": "python",
   "name": "python3"
  },
  "language_info": {
   "codemirror_mode": {
    "name": "ipython",
    "version": 3
   },
   "file_extension": ".py",
   "mimetype": "text/x-python",
   "name": "python",
   "nbconvert_exporter": "python",
   "pygments_lexer": "ipython3",
   "version": "3.5.2"
  }
 },
 "nbformat": 4,
 "nbformat_minor": 2
}
