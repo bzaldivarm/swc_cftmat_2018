{
 "cells": [
  {
   "cell_type": "code",
   "execution_count": 1,
   "metadata": {
    "collapsed": true,
    "scrolled": true
   },
   "outputs": [],
   "source": [
    "from scipy import stats\n",
    "import numpy as np\n",
    "import scipy.integrate as integrate\n",
    "import matplotlib.pyplot as plt\n",
    "from matplotlib import colors\n",
    "from IPython.display import Image"
   ]
  },
  {
   "cell_type": "markdown",
   "metadata": {},
   "source": [
    "# STATISTICAL INFERENCE 1: Regression"
   ]
  },
  {
   "cell_type": "markdown",
   "metadata": {},
   "source": [
    "the process of deducing properties of an underlying distribution"
   ]
  },
  {
   "cell_type": "markdown",
   "metadata": {},
   "source": [
    "# Least squares "
   ]
  },
  {
   "cell_type": "code",
   "execution_count": 547,
   "metadata": {
    "collapsed": false,
    "scrolled": true
   },
   "outputs": [],
   "source": [
    "# generate some data from quadratic model with Gaussian noise\n",
    "\n",
    "def true_func(x):\n",
    "    return (x - 5.0)**2 + 10.\n",
    "\n",
    "N=20 # number of points\n",
    "np.random.seed(45)\n",
    "xmin=0\n",
    "xmax=20.\n",
    "x=np.random.uniform(xmin,xmax,size=N)\n",
    "yclean=true_func(x)\n",
    "mu=0\n",
    "sigma=20\n",
    "noise = stats.norm.rvs(mu, sigma, size = N)\n",
    "y = yclean + noise"
   ]
  },
  {
   "cell_type": "code",
   "execution_count": 548,
   "metadata": {
    "collapsed": false,
    "scrolled": true
   },
   "outputs": [
    {
     "data": {
      "image/png": "[encoded data removed]",
      "text/plain": [
       "<matplotlib.figure.Figure at 0x7fb6f54e7278>"
      ]
     },
     "metadata": {},
     "output_type": "display_data"
    }
   ],
   "source": [
    "plt.scatter(x,y)\n",
    "plt.show()"
   ]
  },
  {
   "cell_type": "markdown",
   "metadata": {},
   "source": [
    "If underlying PDF of data $y$ is i.i.d. as Gaussian, likelihood is: \n",
    "$$\n",
    "{\\cal L}(\\bf w) = \\prod_{i=1}^N  {\\cal N}(y_i|\\bar{y}_i,\\sigma_y)\n",
    "$$\n",
    "\n",
    "where \n",
    "$$  \\bar y_i = \\bar y_i({\\bf w}) $$\n",
    "\n",
    "and ${\\bf w}$ are the parameters of the machine-learning model."
   ]
  },
  {
   "cell_type": "markdown",
   "metadata": {},
   "source": [
    "For a given model, choose the parameters that **maximise** the likelihood (MLE). For Gaussian, equivalent to minimise:\n",
    "$$\n",
    "{\\rm Cost} = \\frac{1}{N}\\sum_{i=1}^N \\big( y_i - \\bar{y}_i({\\bf w})\\big)^2~~~~~ (\\rm MSE)\n",
    "$$"
   ]
  },
  {
   "cell_type": "code",
   "execution_count": 210,
   "metadata": {
    "collapsed": true
   },
   "outputs": [],
   "source": [
    "def Cost(y_obs,y_pred):\n",
    "    # y_obs: array of observations\n",
    "    # y_pred: array of predictions\n",
    "    return np.mean((y_obs-y_pred)**2)"
   ]
  },
  {
   "cell_type": "markdown",
   "metadata": {},
   "source": [
    "**Machine Learning procedure:**  choose the model for $\\bar y(x)$ that best fit **new data**"
   ]
  },
  {
   "cell_type": "markdown",
   "metadata": {},
   "source": [
    "Assume a basis of functions like \n",
    "$$ f(x) = \\beta_0 + \\sum_{p=1}^P \\beta_p x^p = \\beta^T\\cdot \\vec\\phi(x)  $$ "
   ]
  },
  {
   "cell_type": "markdown",
   "metadata": {},
   "source": [
    "then the result of minimisation can be computed analytically, and is:\n",
    "$$\n",
    "\\beta_{\\rm ML} = (\\Phi^T\\Phi)^{-1}\\Phi^T\\cdot {\\bf y}~~~~~~~~~~(1)\n",
    "$$"
   ]
  },
  {
   "cell_type": "code",
   "execution_count": 307,
   "metadata": {
    "collapsed": false
   },
   "outputs": [],
   "source": [
    "def Phi(x,P):\n",
    "    # x: input vector\n",
    "    # P: order of polynomial\n",
    "    xt=x.reshape((-1,1))\n",
    "    Phi=np.ones(len(x)).reshape((-1,1))\n",
    "    for p in range(1,P+1):\n",
    "        Phi=np.hstack((Phi,xt**p))\n",
    "    return Phi\n"
   ]
  },
  {
   "cell_type": "code",
   "execution_count": 233,
   "metadata": {
    "collapsed": true
   },
   "outputs": [],
   "source": [
    "def beta_MSE(Phi,y):\n",
    "    return np.linalg.inv(np.transpose(Phi).dot(Phi)).dot(np.transpose(Phi)).dot(y)"
   ]
  },
  {
   "cell_type": "markdown",
   "metadata": {},
   "source": [
    "Idea is to have optimal prediction in data never seen before:\n",
    "Dataset _randomly_ partitioned into **training** and **test** sets "
   ]
  },
  {
   "cell_type": "code",
   "execution_count": 549,
   "metadata": {
    "collapsed": true
   },
   "outputs": [],
   "source": [
    "# reshuffling data\n",
    "np.random.seed(124)\n",
    "perm = np.random.permutation(N)\n",
    "x=x[perm]\n",
    "y=y[perm]\n",
    "\n",
    "#partitioning data\n",
    "test_size = int(0.2*N)\n",
    "x_test = x[:test_size]\n",
    "x_train = x[test_size:]\n",
    "y_test = y[:test_size]\n",
    "y_train = y[test_size:]"
   ]
  },
  {
   "cell_type": "markdown",
   "metadata": {},
   "source": [
    "Let's build the model"
   ]
  },
  {
   "cell_type": "code",
   "execution_count": 255,
   "metadata": {
    "collapsed": true
   },
   "outputs": [],
   "source": [
    "def y_pred(Phi,beta):\n",
    "    # beta: vector of coefficients\n",
    "    # Phi:  Nx(P+1) matrix of features (inputs)\n",
    "    return Phi.dot(beta)"
   ]
  },
  {
   "cell_type": "markdown",
   "metadata": {},
   "source": [
    "For a given model complexity $P$, the training fit is already given by expr.(1) \n",
    "evaluated in the training set  (in more complex models, numerical training is needed). The solution for $P=3$ is:"
   ]
  },
  {
   "cell_type": "code",
   "execution_count": 561,
   "metadata": {
    "collapsed": false
   },
   "outputs": [
    {
     "name": "stdout",
     "output_type": "stream",
     "text": [
      "beta_hat= [  8.86896768e+01  -1.25646176e+02   5.85868781e+01  -1.16455553e+01\n",
      "   1.10529463e+00  -4.90170982e-02   8.18638237e-04]\n"
     ]
    },
    {
     "data": {
      "image/png": "[encoded data removed]",
      "text/plain": [
       "<matplotlib.figure.Figure at 0x7fb6f51e1d30>"
      ]
     },
     "metadata": {},
     "output_type": "display_data"
    }
   ],
   "source": [
    "p=6\n",
    "beta_hat = beta_MSE(Phi(x_train,p),y_train)\n",
    "print('beta_hat=',beta_hat)\n",
    "plt.scatter(x_train,y_train,color='red')\n",
    "plt.scatter(x_test,y_test,color='blue')\n",
    "x_arr=np.linspace(min(x_train),max(x_train),100)\n",
    "plt.plot(x_arr,y_pred(Phi(x_arr,p),beta_hat))\n",
    "plt.show()"
   ]
  },
  {
   "cell_type": "markdown",
   "metadata": {},
   "source": [
    "Let's evaluate the Cost in the training and in the test sets"
   ]
  },
  {
   "cell_type": "code",
   "execution_count": 564,
   "metadata": {
    "collapsed": true
   },
   "outputs": [],
   "source": [
    "error_train=[]\n",
    "error_test=[]\n",
    "for p in range(1,5):\n",
    "    beta_hat = beta_MSE(Phi(x_train,p),y_train)\n",
    "    y_pred_train = y_pred(Phi(x_train,p),beta_hat)\n",
    "    y_pred_test = y_pred(Phi(x_test,p),beta_hat)\n",
    "    error_train.append(Cost(y_train,y_pred_train))\n",
    "    error_test.append(Cost(y_test,y_pred_test))"
   ]
  },
  {
   "cell_type": "code",
   "execution_count": 575,
   "metadata": {
    "collapsed": false
   },
   "outputs": [
    {
     "data": {
      "image/png": "[encoded data removed]",
      "text/plain": [
       "<matplotlib.figure.Figure at 0x7fb6f57ff080>"
      ]
     },
     "metadata": {},
     "output_type": "display_data"
    }
   ],
   "source": [
    "p_arr = np.linspace(1,4,4)\n",
    "plt.plot(p_arr,error_test,color='orange',label='test')\n",
    "plt.scatter(p_arr,error_test,color='orange')\n",
    "plt.plot(p_arr,error_train,label='train')\n",
    "plt.scatter(p_arr,error_train)\n",
    "plt.xlabel(\"order of polynomial\",fontsize=18)\n",
    "plt.ylabel(\"MSE\",fontsize=18)\n",
    "plt.legend(bbox_to_anchor=(1.,1.))\n",
    "plt.show()"
   ]
  }
 ],
 "metadata": {
  "kernelspec": {
   "display_name": "Python 3",
   "language": "python",
   "name": "python3"
  },
  "language_info": {
   "codemirror_mode": {
    "name": "ipython",
    "version": 3
   },
   "file_extension": ".py",
   "mimetype": "text/x-python",
   "name": "python",
   "nbconvert_exporter": "python",
   "pygments_lexer": "ipython3",
   "version": "3.5.2"
  }
 },
 "nbformat": 4,
 "nbformat_minor": 2
}
